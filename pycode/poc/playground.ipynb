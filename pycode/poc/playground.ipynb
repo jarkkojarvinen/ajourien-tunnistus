{
 "metadata": {
  "language_info": {
   "codemirror_mode": {
    "name": "ipython",
    "version": 3
   },
   "file_extension": ".py",
   "mimetype": "text/x-python",
   "name": "python",
   "nbconvert_exporter": "python",
   "pygments_lexer": "ipython3",
   "version": "3.8.5-final"
  },
  "orig_nbformat": 2,
  "kernelspec": {
   "name": "python3",
   "display_name": "Python 3.8.5 64-bit",
   "metadata": {
    "interpreter": {
     "hash": "e7370f93d1d0cde622a1f8e1c04877d8463912d04d973331ad4851f04de6915a"
    }
   }
  }
 },
 "nbformat": 4,
 "nbformat_minor": 2,
 "cells": [
  {
   "cell_type": "code",
   "execution_count": 1,
   "metadata": {},
   "outputs": [],
   "source": [
    "import numpy as np\n",
    "from progress.bar import Bar"
   ]
  },
  {
   "cell_type": "code",
   "execution_count": 8,
   "metadata": {},
   "outputs": [
    {
     "output_type": "stream",
     "name": "stdout",
     "text": [
      "[[1. 1.]\n [3. 1.]\n [1. 3.]\n [3. 3.]]\n-\n2\n"
     ]
    }
   ],
   "source": [
    "kSkip = 4\n",
    "l = kSkip / 2\n",
    "dls = np.array([[1, 1], [l+1, 1], [1, l+1], [l+1, l+1]])\n",
    "nDls = np.size(dls,1)\n",
    "print(dls)\n",
    "print('-')\n",
    "print(nDls)"
   ]
  },
  {
   "cell_type": "code",
   "execution_count": 35,
   "metadata": {},
   "outputs": [
    {
     "output_type": "stream",
     "name": "stdout",
     "text": [
      "[1. 1.]\n[3. 1.]\n"
     ]
    }
   ],
   "source": [
    "for l in range(0, nDls):    \n",
    "    dl = dls[l,:]\n",
    "    print(dl)"
   ]
  },
  {
   "cell_type": "code",
   "execution_count": 5,
   "metadata": {},
   "outputs": [
    {
     "output_type": "execute_result",
     "data": {
      "text/plain": [
       "array([  0,  15,  30,  45,  60,  75,  90, 105, 120, 135, 150, 165, 180])"
      ]
     },
     "metadata": {},
     "execution_count": 5
    }
   ],
   "source": [
    "np.arange(0, 195, 15)"
   ]
  },
  {
   "cell_type": "code",
   "execution_count": 8,
   "metadata": {},
   "outputs": [
    {
     "output_type": "execute_result",
     "data": {
      "text/plain": [
       "[[1, 4, 5], [-5, 8, 9]]"
      ]
     },
     "metadata": {},
     "execution_count": 8
    }
   ],
   "source": [
    "A = [[1, 4, 5], \n",
    "    [-5, 8, 9]]\n",
    "A"
   ]
  },
  {
   "cell_type": "code",
   "execution_count": 2,
   "metadata": {},
   "outputs": [
    {
     "output_type": "stream",
     "name": "stdout",
     "text": [
      "z[xForw] [[1 1 1 1 1]\n [2 2 2 2 2]\n [3 3 3 3 3]\n [4 4 4 4 4]\n [5 5 5 5 5]\n [5 5 5 5 5]]\nz[xForw][yForw] [[2 2 2 2 2]\n [3 3 3 3 3]\n [4 4 4 4 4]\n [5 5 5 5 5]\n [5 5 5 5 5]]\nz[:][yForw] [[1 1 1 1 1]\n [2 2 2 2 2]\n [3 3 3 3 3]\n [4 4 4 4 4]\n [4 4 4 4 4]]\nz[xBack][yForw] [[0 0 0 0 0]\n [1 1 1 1 1]\n [2 2 2 2 2]\n [3 3 3 3 3]\n [3 3 3 3 3]]\nz[xBack] [[0 0 0 0 0]\n [0 0 0 0 0]\n [1 1 1 1 1]\n [2 2 2 2 2]\n [3 3 3 3 3]\n [4 4 4 4 4]]\nz[xBack][yBack] [[0 0 0 0 0]\n [0 0 0 0 0]\n [0 0 0 0 0]\n [1 1 1 1 1]\n [2 2 2 2 2]]\nz[:][yBack] [[0 0 0 0 0]\n [0 0 0 0 0]\n [1 1 1 1 1]\n [2 2 2 2 2]\n [3 3 3 3 3]]\nz[xForw][yBack] [[1 1 1 1 1]\n [1 1 1 1 1]\n [2 2 2 2 2]\n [3 3 3 3 3]\n [4 4 4 4 4]]\nz[xForw] [[1 1 1 1 1]\n [2 2 2 2 2]\n [3 3 3 3 3]\n [4 4 4 4 4]\n [5 5 5 5 5]\n [5 5 5 5 5]]\n"
     ]
    }
   ],
   "source": [
    "z = np.array(\n",
    "    [[0, 0, 0, 0, 0],\n",
    "     [1, 1, 1, 1, 1],\n",
    "     [2, 2, 2, 2, 2],\n",
    "     [3, 3, 3, 3, 3],\n",
    "     [4, 4, 4, 4, 4],\n",
    "     [5, 5, 5, 5, 5]]\n",
    ")\n",
    "n, m = np.shape(z)\n",
    "xForw = np.array([1, 2, 3, 4, 5, 5])\n",
    "xBack = [0, 0, 1, 2, 3, 4]\n",
    "yForw = [1, 2, 3, 4, 4]\n",
    "yBack = [0, 0, 1, 2, 3]\n",
    "\n",
    "print('z[xForw]', z[xForw])\n",
    "print('z[xForw][yForw]', z[xForw][yForw])\n",
    "print('z[:][yForw]', z[:][yForw])\n",
    "print('z[xBack][yForw]', z[xBack][yForw])\n",
    "print('z[xBack]', z[xBack])\n",
    "print('z[xBack][yBack]', z[xBack][yBack])\n",
    "print('z[:][yBack]', z[:][yBack])\n",
    "print('z[xForw][yBack]', z[xForw][yBack])\n",
    "print('z[xForw]', z[xForw])\n"
   ]
  }
 ]
}