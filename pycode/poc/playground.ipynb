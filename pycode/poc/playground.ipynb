{
 "metadata": {
  "language_info": {
   "codemirror_mode": {
    "name": "ipython",
    "version": 3
   },
   "file_extension": ".py",
   "mimetype": "text/x-python",
   "name": "python",
   "nbconvert_exporter": "python",
   "pygments_lexer": "ipython3",
   "version": "3.8.5-final"
  },
  "orig_nbformat": 2,
  "kernelspec": {
   "name": "python3",
   "display_name": "Python 3.8.5 64-bit",
   "metadata": {
    "interpreter": {
     "hash": "e7370f93d1d0cde622a1f8e1c04877d8463912d04d973331ad4851f04de6915a"
    }
   }
  }
 },
 "nbformat": 4,
 "nbformat_minor": 2,
 "cells": [
  {
   "cell_type": "code",
   "execution_count": null,
   "metadata": {},
   "outputs": [],
   "source": [
    "import numpy as np\n",
    "from progress.bar import Bar"
   ]
  },
  {
   "cell_type": "code",
   "execution_count": null,
   "metadata": {},
   "outputs": [],
   "source": [
    "kSkip = 4\n",
    "l = kSkip / 2\n",
    "dls = np.array([[1, 1], [l+1, 1], [1, l+1], [l+1, l+1]])\n",
    "nDls = np.size(dls,1)\n",
    "print(dls)\n",
    "print('-')\n",
    "print(nDls)"
   ]
  },
  {
   "cell_type": "code",
   "execution_count": null,
   "metadata": {},
   "outputs": [],
   "source": [
    "for l in range(0, nDls):    \n",
    "    dl = dls[l,:]\n",
    "    print(dl)"
   ]
  },
  {
   "cell_type": "code",
   "execution_count": null,
   "metadata": {},
   "outputs": [],
   "source": [
    "np.arange(0, 195, 15)"
   ]
  },
  {
   "cell_type": "code",
   "execution_count": null,
   "metadata": {},
   "outputs": [],
   "source": [
    "A = [[1, 4, 5], \n",
    "    [-5, 8, 9]]\n",
    "A"
   ]
  },
  {
   "cell_type": "code",
   "execution_count": null,
   "metadata": {},
   "outputs": [],
   "source": [
    "z = np.array(\n",
    "    [[0, 0, 0, 0, 0],\n",
    "     [1, 1, 1, 1, 1],\n",
    "     [2, 2, 2, 2, 2],\n",
    "     [3, 3, 3, 3, 3],\n",
    "     [4, 4, 4, 4, 4],\n",
    "     [5, 5, 5, 5, 5]]\n",
    ")\n",
    "n, m = np.shape(z)\n",
    "xForw = np.array([1, 2, 3, 4, 5, 5])\n",
    "xBack = [0, 0, 1, 2, 3, 4]\n",
    "yForw = [1, 2, 3, 4, 4]\n",
    "yBack = [0, 0, 1, 2, 3]\n",
    "\n",
    "print('z[xForw]', z[xForw])\n",
    "print('z[xForw][yForw]', z[xForw][yForw])\n",
    "print('z[:][yForw]', z[:][yForw])\n",
    "print('z[xBack][yForw]', z[xBack][yForw])\n",
    "print('z[xBack]', z[xBack])\n",
    "print('z[xBack][yBack]', z[xBack][yBack])\n",
    "print('z[:][yBack]', z[:][yBack])\n",
    "print('z[xForw][yBack]', z[xForw][yBack])\n",
    "print('z[xForw]', z[xForw])\n"
   ]
  },
  {
   "cell_type": "code",
   "execution_count": null,
   "metadata": {},
   "outputs": [],
   "source": [
    "z = np.random.randint(1, 10, size=(10, 10))"
   ]
  },
  {
   "cell_type": "code",
   "execution_count": null,
   "metadata": {},
   "outputs": [],
   "source": [
    "kSkip = 2\n",
    "a = np.arange(0, 10, kSkip)\n",
    "b = np.arange(0, 10, kSkip)\n",
    "z[a, b]"
   ]
  },
  {
   "cell_type": "code",
   "execution_count": null,
   "metadata": {},
   "outputs": [],
   "source": [
    "a = [1]\n",
    "print(np.concatenate((range(1,5),a), axis=0))\n",
    "print(np.concatenate((a, range(1,5)), axis=0))"
   ]
  },
  {
   "cell_type": "code",
   "execution_count": null,
   "metadata": {},
   "outputs": [],
   "source": [
    "np.arange(0, 5, 2)"
   ]
  },
  {
   "cell_type": "code",
   "execution_count": null,
   "metadata": {},
   "outputs": [],
   "source": [
    "z = np.array(\n",
    "    [[0, 0, 0, 0, 0, 0, 0, 0, 0],\n",
    "     [1, 1, 1, 1, 1, 1, 1, 1, 1],\n",
    "     [2, 2, 2, 2, 2, 2, 2, 2, 2],\n",
    "     [3, 3, 3, 3, 3, 3, 3, 3, 3],\n",
    "     [4, 4, 4, 4, 4, 4, 4, 4, 4],\n",
    "     [5, 5, 5, 5, 5, 5, 5, 5, 5],\n",
    "     [6, 6, 6, 6, 6, 6, 6, 6, 6],\n",
    "     [7, 7, 7, 7, 7, 7, 7, 7, 7],\n",
    "     [8, 8, 8, 8, 8, 8, 8, 8, 8],\n",
    "     [9, 9, 9, 9, 9, 9, 9, 9, 9],]\n",
    ")"
   ]
  },
  {
   "cell_type": "code",
   "execution_count": null,
   "metadata": {},
   "outputs": [],
   "source": [
    "kSkip = 3\n",
    "indsLx = np.arange(0, 9, kSkip)\n",
    "indsLy = np.arange(0, 9, kSkip)\n",
    "print(indsLx, indsLy)\n",
    "zout = z[indsLx][:, indsLy]\n",
    "zout"
   ]
  },
  {
   "cell_type": "code",
   "execution_count": null,
   "metadata": {},
   "outputs": [],
   "source": [
    "a = np.array([[1, 2], [3, 4]])\n",
    "np.reshape(a, (4, 1)).flatten()"
   ]
  },
  {
   "cell_type": "code",
   "execution_count": null,
   "metadata": {},
   "outputs": [],
   "source": [
    "np.arange(0.0, 180.0, 15.0)"
   ]
  },
  {
   "cell_type": "code",
   "execution_count": null,
   "metadata": {},
   "outputs": [],
   "source": [
    " x = [1, 2.5, 7, 10]\n",
    " y = [5.2, 7.7, 9.6 ,13.2]\n",
    " np.trapz(y, x)\n",
    " #np.trapz(x, y)"
   ]
  },
  {
   "cell_type": "code",
   "execution_count": null,
   "metadata": {},
   "outputs": [],
   "source": [
    "a = np.array([1, 2, 3])\n",
    "bins = 5\n",
    "\n",
    "step = len(a) / (bins * len(a))\n",
    "mina = np.min(a) + step\n",
    "maxa = np.max(a)\n",
    "print(step, mina, maxa)\n",
    "\n",
    "print(np.histogram(a, bins))\n",
    "print(np.arange(mina, maxa, step))"
   ]
  },
  {
   "cell_type": "code",
   "execution_count": null,
   "metadata": {},
   "outputs": [],
   "source": [
    "def mat_hist(a, bins):\n",
    "    step = len(a) / (bins * len(a))\n",
    "    mina = np.min(a) + step\n",
    "    maxa = np.max(a)\n",
    "\n",
    "    [counts, _] = np.histogram(a, bins)\n",
    "    edges = np.arange(mina, maxa, step)\n",
    "    return counts, edges"
   ]
  },
  {
   "cell_type": "code",
   "execution_count": null,
   "metadata": {},
   "outputs": [],
   "source": [
    "counts, edges = mat_hist(a, bins)\n",
    "print(counts, edges)"
   ]
  },
  {
   "cell_type": "code",
   "execution_count": null,
   "metadata": {},
   "outputs": [],
   "source": [
    "t = np.array([1, 2, 3, 4, 5, 6, 7, 8, 9, 10])\n",
    "mat_hist(t, 5)\n",
    "# 1.9000    3.7000    5.5000    7.3000    9.1000\n",
    "print(t[:-1] + ((t[1:] - t[:-1])/2))"
   ]
  },
  {
   "cell_type": "code",
   "execution_count": null,
   "metadata": {},
   "outputs": [],
   "source": [
    "a = np.array([1, 2, 3, 4, 5, 6, 7, 8, 9, 10])\n",
    "\n",
    "N, X = np.histogram(a, bins = 5)\n",
    "print(N, X)\n"
   ]
  },
  {
   "cell_type": "code",
   "execution_count": null,
   "metadata": {},
   "outputs": [],
   "source": [
    "t = np.array([1, 2, 3, 4, 5, 6, 7, 8, 9, 10])\n",
    "count, bins = np.histogram(t, bins=np.linspace(1, 10, 5, endpoint=False))\n",
    "\n",
    "bins = bins + 0.9\n",
    "print(count, bins)"
   ]
  },
  {
   "cell_type": "code",
   "execution_count": null,
   "metadata": {},
   "outputs": [],
   "source": [
    "t = np.array([1, 2, 3, 4, 5])\n",
    "count, bins = np.histogram(t, bins=np.linspace(1, 5, 5, endpoint=False))\n",
    "\n",
    "bins = bins + 0.4\n",
    "print(count, bins)"
   ]
  },
  {
   "cell_type": "code",
   "execution_count": null,
   "metadata": {},
   "outputs": [],
   "source": [
    "t = np.array([1, 2, 3, 4, 5, 6, 7, 8])\n",
    "bins = np.linspace(1, 8, 5, endpoint=False)\n",
    "delta = (bins[1] - bins[0])/2\n",
    "count, bins = np.histogram(t, bins=bins)\n",
    "\n",
    "bins = bins + delta\n",
    "print(count, bins)"
   ]
  },
  {
   "cell_type": "code",
   "execution_count": null,
   "metadata": {},
   "outputs": [],
   "source": [
    "def mat_hist(x, nbins):\n",
    "    bins = np.linspace(np.min(x), np.max(x), nbins, endpoint=False)\n",
    "    delta = (bins[1] - bins[0])/2\n",
    "    count, bins = np.histogram(x, bins=bins)\n",
    "\n",
    "    bins = bins + delta\n",
    "    return count, bins"
   ]
  },
  {
   "cell_type": "code",
   "execution_count": null,
   "metadata": {},
   "outputs": [],
   "source": [
    "t = np.array([1, 2, 3, 4, 5, 6, 7, 8])\n",
    "# count, bins = np.histogram(t, bins=np.linspace(1, 8, 6, endpoint=False))\n",
    "# bins = bins + 0.5833\n",
    "# print(count, bins)\n",
    "mat_hist(t, 6)"
   ]
  },
  {
   "cell_type": "code",
   "execution_count": null,
   "metadata": {},
   "outputs": [],
   "source": [
    "from skimage.filters.rank import entropy\n",
    "from skimage.morphology import square\n",
    "\n",
    "t = np.array([[1, 1, 1, 0, 0, 1, 0, 0, 1],\n",
    "              [1, 1, 1, 1, 0, 1, 1, 0, 1],\n",
    "              [0, 1, 0, 0, 1, 0, 1, 1, 1],\n",
    "              [1, 1, 1, 0, 0, 1, 0, 0, 1],\n",
    "              [1, 1, 1, 1, 0, 1, 1, 0, 1],\n",
    "              [0, 1, 0, 0, 1, 0, 1, 1, 1],\n",
    "              [1, 1, 1, 0, 0, 1, 0, 0, 1],\n",
    "              [1, 1, 1, 1, 0, 1, 1, 0, 1],\n",
    "              [0, 1, 0, 0, 1, 0, 1, 1, 1]])\n",
    "actual = entropy(t, square(3))\n",
    "\n",
    "expected = np.array([\n",
    "    [0.9183,0.8608,0.8916,0.9680,0.9510,0.9301,0.9867,0.9946,0.9751],\n",
    "    [0.9510,0.9183,0.9183,0.9751,0.9510,0.9183,0.9751,0.9751,0.9510],\n",
    "    [0.9183,0.8608,0.8916,0.9680,0.9510,0.9301,0.9867,0.9946,0.9751],\n",
    "    [0.9183,0.8608,0.8916,0.9680,0.9510,0.9301,0.9867,0.9946,0.9751],\n",
    "    [0.9510,0.9183,0.9183,0.9751,0.9510,0.9183,0.9751,0.9751,0.9510],\n",
    "    [0.9751,0.9599,0.9410,0.9813,0.9510,0.9055,0.9599,0.9410,0.9183],\n",
    "    [0.9751,0.9599,0.9410,0.9813,0.9510,0.9055,0.9599,0.9410,0.9183],\n",
    "    [0.9510,0.9183,0.9183,0.9751,0.9510,0.9183,0.9751,0.9751,0.9510],\n",
    "    [0.9751,0.9599,0.9410,0.9813,0.9510,0.9055,0.9599,0.9410,0.9183]\n",
    "])\n",
    "\n",
    "print(np.array_equal(expected, actual))\n",
    "print(actual)\n",
    "print(expected)\n"
   ]
  },
  {
   "cell_type": "code",
   "execution_count": null,
   "metadata": {},
   "outputs": [],
   "source": [
    "import numpy as np\n",
    "import matplotlib.pyplot as plt\n",
    "s = [1,1,1,1,2,2,2,3,3,4,5,5,5,6,7,7,7,7,7,7,7]\n",
    "\n",
    "xmin = 1\n",
    "xmax = 7\n",
    "step = 1\n",
    "y, x = np.histogram(s, bins=np.linspace(xmin, xmax, int((xmax-xmin)/step)))\n",
    "\n",
    "nbins = y.size\n",
    "print(x)\n",
    "\n",
    "plt.bar(x[:-1], y) #, width=x[1]-x[0], color='red', alpha=0.5)\n",
    "plt.hist(s, bins=nbins) #, alpha=0.5)\n",
    "plt.grid(True)\n",
    "plt.show()"
   ]
  },
  {
   "cell_type": "code",
   "execution_count": null,
   "metadata": {},
   "outputs": [],
   "source": [
    "h1 = np.histogram(s, bins=np.linspace(xmin, xmax, int((xmax-xmin)/step)))\n",
    "print(h1)\n",
    "h_plt = plt.hist(s, bins=h1[1]) #,alpha=0.5)\n",
    "print(h_plt)"
   ]
  },
  {
   "source": [
    "# Example"
   ],
   "cell_type": "markdown",
   "metadata": {}
  },
  {
   "cell_type": "code",
   "execution_count": null,
   "metadata": {},
   "outputs": [],
   "source": [
    "t = np.array([11, 15, 16, 11, 10, 19, 17, 12, 18 ,16])\n",
    "count, bins = np.histogram(t, bins=6)\n",
    "\n",
    "print(count)\n",
    "print(bins)"
   ]
  },
  {
   "cell_type": "code",
   "execution_count": null,
   "metadata": {},
   "outputs": [],
   "source": [
    "from matplotlib import pyplot as plt \n",
    "import numpy as np  \n",
    "\n",
    "plt.hist(t, bins = bins) \n",
    "plt.title(\"histogram\") \n",
    "plt.show()"
   ]
  },
  {
   "source": [
    "# Try"
   ],
   "cell_type": "markdown",
   "metadata": {}
  },
  {
   "cell_type": "code",
   "execution_count": null,
   "metadata": {},
   "outputs": [],
   "source": [
    "from matplotlib import pyplot as plt \n",
    "import numpy as np  \n",
    "\n",
    "x = np.array([11, 15, 16, 11, 10, 19, 17, 12, 18 ,16])\n",
    "\n",
    "h1 = np.histogram(x, bins=np.linspace(xmin, xmax, int((xmax-xmin)/step)))\n",
    "print(h1)\n",
    "#h_plt = plt.hist(s, bins=h1[1])\n",
    "#print(h_plt)\n"
   ]
  },
  {
   "cell_type": "code",
   "execution_count": null,
   "metadata": {},
   "outputs": [],
   "source": [
    "from matplotlib import pyplot as plt \n",
    "import numpy as np  \n",
    "\n",
    "x = np.array([10, 11, 11, 12, 15, 16, 16, 17, 18, 19])\n",
    "\n",
    "nbins = 6\n",
    "bins = np.linspace(np.min(x), np.max(x), nbins, endpoint=False)\n",
    "delta = (bins[1] - bins[0])/2\n",
    "bins = bins + delta\n",
    "print(\"bins\", bins)\n",
    "\n",
    "# Ei hyötyä, _=ei käyttöä, hbins=bins\n",
    "# [3 0 3 2] [10.9 12.7 14.5 16.3 18.1]\n",
    "_, hbins = np.histogram(x, bins=bins)\n",
    "print(_, hbins)\n",
    "\n",
    "# Ei toimi\n",
    "#[0 1 1 1 3 3 3 4 4 5]\n",
    "#count = np.digitize(x, bins)\n",
    "#print(count)\n",
    "\n",
    "\n",
    "h_plt = plt.hist(x, bins=bins)\n",
    "# c 3     1     0     3     1     2\n",
    "# b 7     2     1     3     1     7\n"
   ]
  },
  {
   "cell_type": "code",
   "execution_count": 519,
   "metadata": {},
   "outputs": [],
   "source": [
    "def mat_hist2(x, nbins=10):\n",
    "    bins = np.linspace(np.min(x), np.max(x), nbins, endpoint=False)    \n",
    "    delta = (bins[1] - bins[0])/2\n",
    "    bins = bins + delta\n",
    "    count, _ = np.histogram(x, bins=nbins)\n",
    "    return count, bins"
   ]
  },
  {
   "cell_type": "code",
   "execution_count": 521,
   "metadata": {},
   "outputs": [
    {
     "output_type": "stream",
     "name": "stdout",
     "text": [
      "check [10.    11.125 12.25  13.375 14.5   15.625 16.75  17.875 19.   ]\n[3 1 0 0 1 2 1 2] [10.5625 11.6875 12.8125 13.9375 15.0625 16.1875 17.3125 18.4375]\n"
     ]
    }
   ],
   "source": [
    "from matplotlib import pyplot as plt \n",
    "import numpy as np  \n",
    "\n",
    "nbins = 8\n",
    "x = np.array([10, 11, 11, 12, 15, 16, 16, 17, 18, 19])\n",
    "#x = np.array([1, 1, 2, 2, 2, 3, 4, 4, 4, 4, 5, 5, 5, 5, 5])\n",
    "count, bins = mat_hist2(x, nbins)\n",
    "print(count, bins)\n",
    "# i   0           1           2       3           4       6\n",
    "# c   3           1           0       3           1       2\n",
    "# b 10.7500   12.2500   13.7500   15.2500   16.7500   18.2500\n",
    "\n",
    "#h_plt = plt.hist(x, bins=bins)"
   ]
  }
 ]
}