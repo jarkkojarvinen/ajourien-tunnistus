{
 "metadata": {
  "language_info": {
   "codemirror_mode": {
    "name": "ipython",
    "version": 3
   },
   "file_extension": ".py",
   "mimetype": "text/x-python",
   "name": "python",
   "nbconvert_exporter": "python",
   "pygments_lexer": "ipython3",
   "version": "3.8.5-final"
  },
  "orig_nbformat": 2,
  "kernelspec": {
   "name": "python3",
   "display_name": "Python 3.8.5 64-bit",
   "metadata": {
    "interpreter": {
     "hash": "e7370f93d1d0cde622a1f8e1c04877d8463912d04d973331ad4851f04de6915a"
    }
   }
  }
 },
 "nbformat": 4,
 "nbformat_minor": 2,
 "cells": [
  {
   "cell_type": "code",
   "execution_count": 1,
   "metadata": {},
   "outputs": [],
   "source": [
    "import numpy as np\n",
    "from progress.bar import Bar"
   ]
  },
  {
   "cell_type": "code",
   "execution_count": 8,
   "metadata": {},
   "outputs": [
    {
     "output_type": "stream",
     "name": "stdout",
     "text": [
      "[[1. 1.]\n [3. 1.]\n [1. 3.]\n [3. 3.]]\n-\n2\n"
     ]
    }
   ],
   "source": [
    "kSkip = 4\n",
    "l = kSkip / 2\n",
    "dls = np.array([[1, 1], [l+1, 1], [1, l+1], [l+1, l+1]])\n",
    "nDls = np.size(dls,1)\n",
    "print(dls)\n",
    "print('-')\n",
    "print(nDls)"
   ]
  },
  {
   "cell_type": "code",
   "execution_count": 35,
   "metadata": {},
   "outputs": [
    {
     "output_type": "stream",
     "name": "stdout",
     "text": [
      "[1. 1.]\n[3. 1.]\n"
     ]
    }
   ],
   "source": [
    "for l in range(0, nDls):    \n",
    "    dl = dls[l,:]\n",
    "    print(dl)"
   ]
  },
  {
   "cell_type": "code",
   "execution_count": 5,
   "metadata": {},
   "outputs": [
    {
     "output_type": "execute_result",
     "data": {
      "text/plain": [
       "array([  0,  15,  30,  45,  60,  75,  90, 105, 120, 135, 150, 165, 180])"
      ]
     },
     "metadata": {},
     "execution_count": 5
    }
   ],
   "source": [
    "np.arange(0, 195, 15)"
   ]
  },
  {
   "cell_type": "code",
   "execution_count": 8,
   "metadata": {},
   "outputs": [
    {
     "output_type": "execute_result",
     "data": {
      "text/plain": [
       "[[1, 4, 5], [-5, 8, 9]]"
      ]
     },
     "metadata": {},
     "execution_count": 8
    }
   ],
   "source": [
    "A = [[1, 4, 5], \n",
    "    [-5, 8, 9]]\n",
    "A"
   ]
  },
  {
   "cell_type": "code",
   "execution_count": 4,
   "metadata": {},
   "outputs": [
    {
     "output_type": "stream",
     "name": "stdout",
     "text": [
      "z[xForw] [[1 1 1 1 1]\n [2 2 2 2 2]\n [3 3 3 3 3]\n [4 4 4 4 4]\n [5 5 5 5 5]\n [5 5 5 5 5]]\nz[xForw][yForw] [[2 2 2 2 2]\n [3 3 3 3 3]\n [4 4 4 4 4]\n [5 5 5 5 5]\n [5 5 5 5 5]]\nz[:][yForw] [[1 1 1 1 1]\n [2 2 2 2 2]\n [3 3 3 3 3]\n [4 4 4 4 4]\n [4 4 4 4 4]]\nz[xBack][yForw] [[0 0 0 0 0]\n [1 1 1 1 1]\n [2 2 2 2 2]\n [3 3 3 3 3]\n [3 3 3 3 3]]\nz[xBack] [[0 0 0 0 0]\n [0 0 0 0 0]\n [1 1 1 1 1]\n [2 2 2 2 2]\n [3 3 3 3 3]\n [4 4 4 4 4]]\nz[xBack][yBack] [[0 0 0 0 0]\n [0 0 0 0 0]\n [0 0 0 0 0]\n [1 1 1 1 1]\n [2 2 2 2 2]]\nz[:][yBack] [[0 0 0 0 0]\n [0 0 0 0 0]\n [1 1 1 1 1]\n [2 2 2 2 2]\n [3 3 3 3 3]]\nz[xForw][yBack] [[1 1 1 1 1]\n [1 1 1 1 1]\n [2 2 2 2 2]\n [3 3 3 3 3]\n [4 4 4 4 4]]\nz[xForw] [[1 1 1 1 1]\n [2 2 2 2 2]\n [3 3 3 3 3]\n [4 4 4 4 4]\n [5 5 5 5 5]\n [5 5 5 5 5]]\n"
     ]
    }
   ],
   "source": [
    "z = np.array(\n",
    "    [[0, 0, 0, 0, 0],\n",
    "     [1, 1, 1, 1, 1],\n",
    "     [2, 2, 2, 2, 2],\n",
    "     [3, 3, 3, 3, 3],\n",
    "     [4, 4, 4, 4, 4],\n",
    "     [5, 5, 5, 5, 5]]\n",
    ")\n",
    "n, m = np.shape(z)\n",
    "xForw = np.array([1, 2, 3, 4, 5, 5])\n",
    "xBack = [0, 0, 1, 2, 3, 4]\n",
    "yForw = [1, 2, 3, 4, 4]\n",
    "yBack = [0, 0, 1, 2, 3]\n",
    "\n",
    "print('z[xForw]', z[xForw])\n",
    "print('z[xForw][yForw]', z[xForw][yForw])\n",
    "print('z[:][yForw]', z[:][yForw])\n",
    "print('z[xBack][yForw]', z[xBack][yForw])\n",
    "print('z[xBack]', z[xBack])\n",
    "print('z[xBack][yBack]', z[xBack][yBack])\n",
    "print('z[:][yBack]', z[:][yBack])\n",
    "print('z[xForw][yBack]', z[xForw][yBack])\n",
    "print('z[xForw]', z[xForw])\n"
   ]
  },
  {
   "cell_type": "code",
   "execution_count": 20,
   "metadata": {},
   "outputs": [],
   "source": [
    "z = np.random.randint(1, 10, size=(10, 10))"
   ]
  },
  {
   "cell_type": "code",
   "execution_count": 30,
   "metadata": {},
   "outputs": [
    {
     "output_type": "execute_result",
     "data": {
      "text/plain": [
       "array([8, 2, 3, 3, 2])"
      ]
     },
     "metadata": {},
     "execution_count": 30
    }
   ],
   "source": [
    "kSkip = 2\n",
    "a = np.arange(0, 10, kSkip)\n",
    "b = np.arange(0, 10, kSkip)\n",
    "z[a, b]"
   ]
  },
  {
   "cell_type": "code",
   "execution_count": 50,
   "metadata": {},
   "outputs": [
    {
     "output_type": "stream",
     "name": "stdout",
     "text": [
      "[1 2 3 4 1]\n[1 1 2 3 4]\n"
     ]
    }
   ],
   "source": [
    "a = [1]\n",
    "print(np.concatenate((range(1,5),a), axis=0))\n",
    "print(np.concatenate((a, range(1,5)), axis=0))"
   ]
  },
  {
   "cell_type": "code",
   "execution_count": 59,
   "metadata": {},
   "outputs": [
    {
     "output_type": "execute_result",
     "data": {
      "text/plain": [
       "array([0, 2, 4])"
      ]
     },
     "metadata": {},
     "execution_count": 59
    }
   ],
   "source": [
    "np.arange(0, 5, 2)"
   ]
  },
  {
   "cell_type": "code",
   "execution_count": 61,
   "metadata": {},
   "outputs": [],
   "source": [
    "z = np.array(\n",
    "    [[0, 0, 0, 0, 0, 0, 0, 0, 0],\n",
    "     [1, 1, 1, 1, 1, 1, 1, 1, 1],\n",
    "     [2, 2, 2, 2, 2, 2, 2, 2, 2],\n",
    "     [3, 3, 3, 3, 3, 3, 3, 3, 3],\n",
    "     [4, 4, 4, 4, 4, 4, 4, 4, 4],\n",
    "     [5, 5, 5, 5, 5, 5, 5, 5, 5],\n",
    "     [6, 6, 6, 6, 6, 6, 6, 6, 6],\n",
    "     [7, 7, 7, 7, 7, 7, 7, 7, 7],\n",
    "     [8, 8, 8, 8, 8, 8, 8, 8, 8],\n",
    "     [9, 9, 9, 9, 9, 9, 9, 9, 9],]\n",
    ")"
   ]
  },
  {
   "cell_type": "code",
   "execution_count": 71,
   "metadata": {},
   "outputs": [
    {
     "output_type": "stream",
     "name": "stdout",
     "text": [
      "[0 3 6] [0 3 6]\n"
     ]
    },
    {
     "output_type": "execute_result",
     "data": {
      "text/plain": [
       "array([[0, 0, 0],\n",
       "       [3, 3, 3],\n",
       "       [6, 6, 6]])"
      ]
     },
     "metadata": {},
     "execution_count": 71
    }
   ],
   "source": [
    "kSkip = 3\n",
    "indsLx = np.arange(0, 9, kSkip)\n",
    "indsLy = np.arange(0, 9, kSkip)\n",
    "print(indsLx, indsLy)\n",
    "zout = z[indsLx][:, indsLy]\n",
    "zout"
   ]
  },
  {
   "cell_type": "code",
   "execution_count": 6,
   "metadata": {},
   "outputs": [
    {
     "output_type": "execute_result",
     "data": {
      "text/plain": [
       "array([1, 2, 3, 4])"
      ]
     },
     "metadata": {},
     "execution_count": 6
    }
   ],
   "source": [
    "a = np.array([[1, 2], [3, 4]])\n",
    "np.reshape(a, (4, 1)).flatten()"
   ]
  },
  {
   "cell_type": "code",
   "execution_count": 2,
   "metadata": {},
   "outputs": [
    {
     "output_type": "execute_result",
     "data": {
      "text/plain": [
       "array([  0.,  15.,  30.,  45.,  60.,  75.,  90., 105., 120., 135., 150.,\n",
       "       165.])"
      ]
     },
     "metadata": {},
     "execution_count": 2
    }
   ],
   "source": [
    "np.arange(0.0, 180.0, 15.0)"
   ]
  },
  {
   "cell_type": "code",
   "execution_count": 20,
   "metadata": {},
   "outputs": [
    {
     "output_type": "execute_result",
     "data": {
      "text/plain": [
       "82.80000000000001"
      ]
     },
     "metadata": {},
     "execution_count": 20
    }
   ],
   "source": [
    " x = [1, 2.5, 7, 10]\n",
    " y = [5.2, 7.7, 9.6 ,13.2]\n",
    " np.trapz(y, x)\n",
    " #np.trapz(x, y)"
   ]
  },
  {
   "cell_type": "code",
   "execution_count": 90,
   "metadata": {},
   "outputs": [
    {
     "output_type": "stream",
     "name": "stdout",
     "text": [
      "0.2 1.2 3\n(array([1, 0, 1, 0, 1]), array([1. , 1.4, 1.8, 2.2, 2.6, 3. ]))\n[1.2 1.4 1.6 1.8 2.  2.2 2.4 2.6 2.8]\n"
     ]
    }
   ],
   "source": [
    "a = np.array([1, 2, 3])\n",
    "bins = 5\n",
    "\n",
    "step = len(a) / (bins * len(a))\n",
    "mina = np.min(a) + step\n",
    "maxa = np.max(a)\n",
    "print(step, mina, maxa)\n",
    "\n",
    "print(np.histogram(a, bins))\n",
    "print(np.arange(mina, maxa, step))"
   ]
  },
  {
   "cell_type": "code",
   "execution_count": 147,
   "metadata": {},
   "outputs": [],
   "source": [
    "def mat_hist(a, bins):\n",
    "    step = len(a) / (bins * len(a))\n",
    "    mina = np.min(a) + step\n",
    "    maxa = np.max(a)\n",
    "\n",
    "    [counts, _] = np.histogram(a, bins)\n",
    "    edges = np.arange(mina, maxa, step)\n",
    "    return counts, edges"
   ]
  },
  {
   "cell_type": "code",
   "execution_count": 148,
   "metadata": {},
   "outputs": [
    {
     "output_type": "stream",
     "name": "stdout",
     "text": [
      "[2 2 2 2 2] [1.2 1.4 1.6 1.8 2.  2.2 2.4 2.6 2.8 3.  3.2 3.4 3.6 3.8 4.  4.2 4.4 4.6\n 4.8 5.  5.2 5.4 5.6 5.8 6.  6.2 6.4 6.6 6.8 7.  7.2 7.4 7.6 7.8 8.  8.2\n 8.4 8.6 8.8 9.  9.2 9.4 9.6 9.8]\n"
     ]
    }
   ],
   "source": [
    "counts, edges = mat_hist(a, bins)\n",
    "print(counts, edges)"
   ]
  },
  {
   "cell_type": "code",
   "execution_count": 118,
   "metadata": {},
   "outputs": [
    {
     "output_type": "stream",
     "name": "stdout",
     "text": [
      "[1.5 2.5 3.5 4.5 5.5 6.5 7.5 8.5 9.5]\n"
     ]
    }
   ],
   "source": [
    "t = np.array([1, 2, 3, 4, 5, 6, 7, 8, 9, 10])\n",
    "mat_hist(t, 5)\n",
    "# 1.9000    3.7000    5.5000    7.3000    9.1000\n",
    "print(t[:-1] + ((t[1:] - t[:-1])/2))"
   ]
  },
  {
   "cell_type": "code",
   "execution_count": 145,
   "metadata": {},
   "outputs": [
    {
     "output_type": "stream",
     "name": "stdout",
     "text": [
      "[2 2 2 2 2] [ 1.   2.8  4.6  6.4  8.2 10. ]\n"
     ]
    }
   ],
   "source": [
    "a = np.array([1, 2, 3, 4, 5, 6, 7, 8, 9, 10])\n",
    "\n",
    "N, X = np.histogram(a, bins = 5)\n",
    "print(N, X)\n"
   ]
  },
  {
   "cell_type": "code",
   "execution_count": 84,
   "metadata": {},
   "outputs": [
    {
     "output_type": "stream",
     "name": "stdout",
     "text": [
      "[2 2 2 2] [1.9 3.7 5.5 7.3 9.1]\n"
     ]
    }
   ],
   "source": [
    "t = np.array([1, 2, 3, 4, 5, 6, 7, 8, 9, 10])\n",
    "count, bins = np.histogram(t, bins=np.linspace(1, 10, 5, endpoint=False))\n",
    "\n",
    "bins = bins + 0.9\n",
    "print(count, bins)"
   ]
  },
  {
   "cell_type": "code",
   "execution_count": 86,
   "metadata": {},
   "outputs": [
    {
     "output_type": "stream",
     "name": "stdout",
     "text": [
      "[1 1 1 1] [1.4 2.2 3.  3.8 4.6]\n"
     ]
    }
   ],
   "source": [
    "t = np.array([1, 2, 3, 4, 5])\n",
    "count, bins = np.histogram(t, bins=np.linspace(1, 5, 5, endpoint=False))\n",
    "\n",
    "bins = bins + 0.4\n",
    "print(count, bins)"
   ]
  },
  {
   "cell_type": "code",
   "execution_count": 91,
   "metadata": {},
   "outputs": [
    {
     "output_type": "stream",
     "name": "stdout",
     "text": [
      "[2 1 2 1] [1.7 3.1 4.5 5.9 7.3]\n"
     ]
    }
   ],
   "source": [
    "t = np.array([1, 2, 3, 4, 5, 6, 7, 8])\n",
    "bins = np.linspace(1, 8, 5, endpoint=False)\n",
    "delta = (bins[1] - bins[0])/2\n",
    "count, bins = np.histogram(t, bins=bins)\n",
    "\n",
    "bins = bins + delta\n",
    "print(count, bins)"
   ]
  },
  {
   "cell_type": "code",
   "execution_count": 92,
   "metadata": {},
   "outputs": [],
   "source": [
    "def mat_hist(x, nbins):\n",
    "    bins = np.linspace(np.min(x), np.max(x), nbins, endpoint=False)\n",
    "    delta = (bins[1] - bins[0])/2\n",
    "    count, bins = np.histogram(x, bins=bins)\n",
    "\n",
    "    bins = bins + delta\n",
    "    return count, bins"
   ]
  },
  {
   "cell_type": "code",
   "execution_count": 93,
   "metadata": {},
   "outputs": [
    {
     "output_type": "execute_result",
     "data": {
      "text/plain": [
       "(array([2, 1, 1, 1, 1]),\n",
       " array([1.58333333, 2.75      , 3.91666667, 5.08333333, 6.25      ,\n",
       "        7.41666667]))"
      ]
     },
     "metadata": {},
     "execution_count": 93
    }
   ],
   "source": [
    "t = np.array([1, 2, 3, 4, 5, 6, 7, 8])\n",
    "# count, bins = np.histogram(t, bins=np.linspace(1, 8, 6, endpoint=False))\n",
    "# bins = bins + 0.5833\n",
    "# print(count, bins)\n",
    "mat_hist(t, 6)"
   ]
  }
 ]
}